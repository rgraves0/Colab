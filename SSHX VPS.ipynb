{
  "nbformat": 4,
  "nbformat_minor": 0,
  "metadata": {
    "colab": {
      "provenance": []
    },
    "kernelspec": {
      "name": "python3",
      "display_name": "Python 3"
    },
    "language_info": {
      "name": "python"
    }
  },
  "cells": [
    {
      "cell_type": "code",
      "source": [
        "from google.colab import drive\n",
        "drive.mount('/content/drive')"
      ],
      "metadata": {
        "colab": {
          "base_uri": "https://localhost:8080/"
        },
        "id": "LTFCkgk1G6cf",
        "outputId": "62e869a7-32c4-4551-ffb7-a2a49dae6baf"
      },
      "execution_count": 1,
      "outputs": [
        {
          "output_type": "stream",
          "name": "stdout",
          "text": [
            "Mounted at /content/drive\n"
          ]
        }
      ]
    },
    {
      "cell_type": "code",
      "execution_count": 2,
      "metadata": {
        "colab": {
          "base_uri": "https://localhost:8080/"
        },
        "id": "utXdS7Lr8oLJ",
        "outputId": "cb7d4079-c6b9-48cc-b470-d9f43e469b5d"
      },
      "outputs": [
        {
          "output_type": "stream",
          "name": "stdout",
          "text": [
            "\u001b[0m\u001b[35;1m↯ Downloading sshx from \u001b[4mhttps://s3.amazonaws.com/sshx/sshx-x86_64-unknown-linux-musl.tar.gz\u001b[0m\n",
            "  % Total    % Received % Xferd  Average Speed   Time    Time     Time  Current\n",
            "                                 Dload  Upload   Total   Spent    Left  Speed\n",
            "100 2971k  100 2971k    0     0  3348k      0 --:--:-- --:--:-- --:--:-- 3346k\n",
            "\n",
            "\u001b[0m\u001b[35;1m↯ Adding sshx binary to \u001b[4m/tmp/tmp.LTckLJymnY\u001b[0m\n",
            "\n",
            "\u001b[0m\u001b[35;1m↯ Done! You can now run sshx.\u001b[0m\n",
            "\n",
            "  \u001b[1;32msshx\u001b[0m \u001b[32mv0.2.5\u001b[0m\n",
            "\n",
            "  \u001b[32m➜\u001b[0m  Link:  \u001b[4;36mhttps://sshx.io/s/j8oy6hy0pl#602LhKDLcKbyyI\u001b[0m\n",
            "  \u001b[32m➜\u001b[0m  Shell: \u001b[38;5;8m/bin/bash\u001b[0m\n",
            "\n",
            "^C\n"
          ]
        }
      ],
      "source": [
        "curl -sSf https://sshx.io/get | sh -s run"
      ]
    },
    {
      "cell_type": "code",
      "metadata": {
        "id": "2FWSbpfU4J2X",
        "colab": {
          "base_uri": "https://localhost:8080/"
        },
        "outputId": "93d2d608-5056-4a0d-c3ee-8c521b68bf05"
      },
      "source": [
        "!cp -av \"/content/Spotdl/Kamin Kingsak - โรงอาหาร (Canteen).mp3\" '/content/drive/MyDrive/Spotdl'"
      ],
      "execution_count": 4,
      "outputs": [
        {
          "output_type": "stream",
          "name": "stdout",
          "text": [
            "'/content/Spotdl/Kamin Kingsak - โรงอาหาร (Canteen).mp3' -> '/content/drive/MyDrive/Spotdl/Kamin Kingsak - โรงอาหาร (Canteen).mp3'\n"
          ]
        }
      ]
    }
  ]
}
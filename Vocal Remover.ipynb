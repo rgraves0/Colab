{
  "nbformat": 4,
  "nbformat_minor": 0,
  "metadata": {
    "colab": {
      "provenance": [],
      "gpuType": "T4"
    },
    "kernelspec": {
      "name": "python3",
      "display_name": "Python 3"
    },
    "language_info": {
      "name": "python"
    },
    "accelerator": "GPU"
  },
  "cells": [
    {
      "cell_type": "markdown",
      "source": [
        "---"
      ],
      "metadata": {
        "id": "Y64mWIAMXxHU"
      }
    },
    {
      "cell_type": "code",
      "execution_count": null,
      "metadata": {
        "cellView": "form",
        "id": "pYJ1zPg2PwZx"
      },
      "outputs": [],
      "source": [
        "#@title Step 1 : Installation\n",
        "\n",
        "!pip install demucs\n",
        "!apt install ffmpeg\n",
        "\n",
        "from google.colab import files\n",
        "import os\n",
        "import subprocess\n",
        "import shutil\n",
        "import zipfile"
      ]
    },
    {
      "cell_type": "code",
      "source": [
        "#@title Step 2 : Upload Files\n",
        "\n",
        "# Create or clear the \"inputs\" directory\n",
        "input_directory = \"inputs\"\n",
        "if os.path.exists(input_directory):\n",
        "    shutil.rmtree(input_directory)\n",
        "os.makedirs(input_directory)\n",
        "\n",
        "# Upload multiple files to the \"inputs\" directory\n",
        "uploaded = files.upload()\n",
        "for filename in uploaded.keys():\n",
        "    os.rename(filename, os.path.join(input_directory, filename))"
      ],
      "metadata": {
        "cellView": "form",
        "id": "0l8KorkwQBVL"
      },
      "execution_count": null,
      "outputs": []
    },
    {
      "cell_type": "code",
      "source": [
        "#@title Step 3: Separate Vocals and Music\n",
        "\n",
        "# Function to delete folders recursively\n",
        "def delete_folders(directory):\n",
        "    \"\"\"Delete folders recursively.\"\"\"\n",
        "    for root, dirs, files in os.walk(directory):\n",
        "        for dir in dirs:\n",
        "            shutil.rmtree(os.path.join(root, dir))\n",
        "\n",
        "# Inform the user about the process\n",
        "print(\"Deleting any existing folders in '/content/separated/htdemucs'...\")\n",
        "\n",
        "# Delete any existing folders in \"/content/separated/htdemucs\"\n",
        "output_directory = \"/content/separated\"\n",
        "if os.path.exists(output_directory):\n",
        "    delete_folders(output_directory)\n",
        "    print(\"Existing folders deleted.\")\n",
        "else:\n",
        "    os.makedirs(output_directory)\n",
        "    print(\"No existing folders found.\")\n",
        "\n",
        "# Run Demucs for each uploaded file\n",
        "for filename in uploaded.keys():\n",
        "    # Inform the user about the current file being processed\n",
        "    print(f\"Separating vocals and instrumentals for '{filename}'...\")\n",
        "\n",
        "    # Run Demucs to separate the audio file\n",
        "    command = f'demucs --two-stems=vocals \"{os.path.join(input_directory, filename)}\" --out \"{output_directory}\"'\n",
        "    subprocess.run(command, shell=True)\n",
        "\n",
        "# Inform the user about the completion of the process\n",
        "print(\"Separation completed successfully.\")\n",
        "\n",
        "# Determine the output directory (Demucs creates a folder named 'separated/{model}/{filename}/')\n",
        "model_name = 'htdemucs'  # Replace with the model used if different\n",
        "output_files = []\n",
        "\n",
        "for filename in uploaded.keys():\n",
        "    output_dir = os.path.join('separated', model_name, os.path.splitext(os.path.basename(filename))[0])\n",
        "    output_files.extend([os.path.join(output_dir, f) for f in os.listdir(output_dir)])"
      ],
      "metadata": {
        "cellView": "form",
        "id": "XuK3xBImQWfQ"
      },
      "execution_count": null,
      "outputs": []
    },
    {
      "cell_type": "code",
      "source": [
        "#@title Step 4 : Download Files (.zip)\n",
        "import zipfile\n",
        "\n",
        "# Function to compress folders to a zip file\n",
        "def compress_to_zip(source_dir, zip_filename):\n",
        "    with zipfile.ZipFile(zip_filename, 'w', zipfile.ZIP_DEFLATED) as zipf:\n",
        "        for root, dirs, files in os.walk(source_dir):\n",
        "            for file in files:\n",
        "                file_path = os.path.join(root, file)\n",
        "                relative_path = os.path.relpath(file_path, source_dir)\n",
        "                zipf.write(file_path, os.path.join('htdemucs', relative_path))\n",
        "\n",
        "# Delete \"outputs.zip\" if it exists\n",
        "if os.path.exists(\"outputs.zip\"):\n",
        "    os.remove(\"outputs.zip\")\n",
        "\n",
        "# Compress folders in \"/content/separated/htdemucs\" to a zip file\n",
        "source_dir = \"/content/separated/htdemucs\"\n",
        "zip_filename = \"outputs.zip\"\n",
        "compress_to_zip(source_dir, zip_filename)\n",
        "\n",
        "# Download the zip file\n",
        "files.download(zip_filename)"
      ],
      "metadata": {
        "cellView": "form",
        "id": "d9HUT9yWVMWv"
      },
      "execution_count": null,
      "outputs": []
    }
  ]
}
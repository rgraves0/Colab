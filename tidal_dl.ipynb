{
  "cells": [
    {
      "cell_type": "markdown",
      "metadata": {
        "id": "view-in-github",
        "colab_type": "text"
      },
      "source": [
        "<a href=\"https://colab.research.google.com/github/rgraves0/Colab/blob/main/tidal_dl.ipynb\" target=\"_parent\"><img src=\"https://colab.research.google.com/assets/colab-badge.svg\" alt=\"Open In Colab\"/></a>"
      ]
    },
    {
      "cell_type": "markdown",
      "metadata": {
        "id": "UIOSEOdVKO-J"
      },
      "source": [
        "### <font size=\"6\" color=\"white\">[Tidal-Media-Downloader](https://github.com/yaronzz/Tidal-Media-Downloader)</font>"
      ]
    },
    {
      "cell_type": "code",
      "execution_count": null,
      "metadata": {
        "cellView": "form",
        "id": "2XOo-Rw6q2eu"
      },
      "outputs": [],
      "source": [
        "\n",
        "#@title __Mount Google Drive and Install dependencies:__ { run: \"auto\" }\n",
        "#@markdown ###Just run the cell below to start !tidal-dl\n",
        "\n",
        "#@markdown ###Notes: \n",
        "#@markdown ###Downloading MQA files should be possible after entering 5 (Select APIKey) and then 1 (FireTV/Master Only).\n",
        "\n",
        "from IPython.display import clear_output\n",
        "from google.colab import drive\n",
        "drive.mount('/content/drive', force_remount=True)\n",
        "clear_output()\n",
        "!echo 'Updating:'\n",
        "!sudo apt-get update -y\n",
        "clear_output()\n",
        "!echo 'Updating:'\n",
        "!sudo apt-get upgrade -y\n",
        "clear_output()\n",
        "!echo 'Installing dependencies:'\n",
        "!python3 -m pip install --upgrade tidal-dl\n",
        "clear_output()"
      ]
    },
    {
      "cell_type": "code",
      "execution_count": null,
      "metadata": {
        "id": "ckLHIzbUq4MU"
      },
      "outputs": [],
      "source": [
        "!tidal-dl"
      ]
    }
  ],
  "metadata": {
    "colab": {
      "provenance": [],
      "include_colab_link": true
    },
    "kernelspec": {
      "display_name": "Python 3",
      "name": "python3"
    },
    "language_info": {
      "name": "python"
    }
  },
  "nbformat": 4,
  "nbformat_minor": 0
}